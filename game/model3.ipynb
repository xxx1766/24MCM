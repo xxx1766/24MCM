{
 "cells": [
  {
   "cell_type": "code",
   "execution_count": null,
   "metadata": {},
   "outputs": [],
   "source": [
    "point={'0':0,'1':1, '2':2 ,'3':3, '4':4, '5':5, '6':6, '7':7, '8':8,'9':9, '10':10, '11':11, '12':12, '15':1, '30':2, '40':3, 'AD':4}\n",
    "## 数据预处理\n",
    "import csv\n",
    "filename='Wimbledon_featured_matches.csv'\n",
    "l=[]\n",
    "with open(filename,'r',encoding=\"utf-8\") as csvfile:\n",
    "    reader = csv.DictReader(csvfile)\n",
    "    for row in reader:\n",
    "        # 计算变量值\n",
    "        point_Faqiu1 = (1 if int(row['server'])==1 and int(row['point_victor'])==1 else 0) + int(row['p1_ace']) + int(row['p1_winner'])\n",
    "        point_Faqiu2 = (1 if int(row['server'])==2 and int(row['point_victor'])==2 else 0) + int(row['p2_ace']) + int(row['p2_winner'])\n",
    "        # point_Faqiu1 = (1 if int(row['server'])==1 and int(row['point_victor'])==1 else 0)\n",
    "        # point_Faqiu2 = (1 if int(row['server'])==2 and int(row['point_victor'])==2 else 0)\n",
    "        \n",
    "        point_Jieqiu1 = 1 if int(row['server'])==2 and int(row['point_victor'])==1 else 0\n",
    "        point_Jieqiu2 = 1 if int(row['server'])==1 and int(row['point_victor'])==2 else 0\n",
    "        d1 = float(row['p1_distance_run'])\n",
    "        d2 = float(row['p2_distance_run'])\n",
    "        point_Error1 = int(row['p1_double_fault']) + (1 if int(row['server'])==1 and int(row['serve_no'])==2 else 0)\n",
    "        point_Error2 = int(row['p2_double_fault']) + (1 if int(row['server'])==2 and int(row['serve_no'])==2 else 0)\n",
    "        point_delta1 = int(point[row['p1_score']]-point[row['p2_score']])\n",
    "        point_delta2 = int(point[row['p2_score']]-point[row['p1_score']])\n",
    "        game_delta1 = int(row['p1_games'])-int(row['p2_games'])\n",
    "        game_delta2 = int(row['p2_games'])-int(row['p1_games'])\n",
    "        set_delta1 = int(row['p1_sets'])-int(row['p2_sets'])\n",
    "        set_delta2 = int(row['p2_sets'])-int(row['p1_sets'])\n",
    "        # 保存到列表\n",
    "        l.append([int(row['match_id'][-4:]), point_Faqiu1, point_Faqiu2, \n",
    "                  point_Jieqiu1, point_Jieqiu2, \n",
    "                  d1, d2, \n",
    "                  point_Error1, point_Error2, \n",
    "                  point_delta1, point_delta2,\n",
    "                  game_delta1, game_delta2,\n",
    "                  set_delta1, set_delta2,\n",
    "                  int(row['point_victor'])])\n",
    "print(l)"
   ]
  }
 ],
 "metadata": {
  "language_info": {
   "name": "python"
  }
 },
 "nbformat": 4,
 "nbformat_minor": 2
}
