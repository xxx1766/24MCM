{
 "cells": [
  {
   "cell_type": "code",
   "execution_count": 2,
   "metadata": {},
   "outputs": [
    {
     "name": "stderr",
     "output_type": "stream",
     "text": [
      "C:\\Users\\Anne\\AppData\\Local\\Temp\\ipykernel_49732\\3481745268.py:13: FutureWarning: Series.__getitem__ treating keys as positions is deprecated. In a future version, integer keys will always be treated as labels (consistent with DataFrame behavior). To access a value by position, use `ser.iloc[pos]`\n",
      "  current_value = row[0]  # 获取当前行第一列的数值\n"
     ]
    },
    {
     "name": "stdout",
     "output_type": "stream",
     "text": [
      "[[1302, 0, 0], [1303, 0, 0], [1304, 0, 0], [1305, 0, 0], [1306, 0, 0], [1307, 0, 0], [1308, 0, 0], [1309, 0, 0], [1310, 0, 0], [1311, 0, 0], [1312, 0, 0], [1313, 0, 0], [1314, 0, 0], [1315, 0, 0], [1316, 0, 0], [1401, 0, 0], [1402, 0, 0], [1403, 0, 0], [1404, 0, 0], [1405, 0, 0], [1406, 0, 0], [1407, 0, 0], [1408, 0, 0], [1501, 0, 0], [1502, 0, 0], [1503, 0, 0], [1504, 0, 0], [1601, 0, 0], [1602, 0, 0], [1701, 0, 0]]\n"
     ]
    }
   ],
   "source": [
    "import csv\n",
    "import pandas as pd\n",
    "\n",
    "filename = 'Wimbledon_featured_matches.csv'\n",
    "l = []\n",
    "with open(filename, 'r', encoding=\"utf-8\") as csvfile:\n",
    "    reader = csv.DictReader(csvfile)\n",
    "    data = pd.read_csv(csvfile)\n",
    "\n",
    "    change_points = []  # 存储变化点的行索引\n",
    "    previous_value = None  # 用于存储前一个数值\n",
    "    for index, row in data.iterrows():\n",
    "        current_value = row[0]  # 获取当前行第一列的数值\n",
    "        if previous_value is not None and current_value != previous_value:\n",
    "            change_points.append(index)  # 当前数值与前一个数值不相等，则记录行索引\n",
    "        previous_value = current_value\n",
    "\n",
    "    for row_index in change_points:\n",
    "        row = data.iloc[row_index]\n",
    "        # 计算变量值\n",
    "        point_p1 = (1 if int(row['p1_score']) > int(row['p2_score']) else 0)\n",
    "        point_p2 = 1 if int(row['p1_score']) < int(row['p2_score']) else 0\n",
    "        l.append([int(row['match_id'][-4:]), point_p1, point_p2])\n",
    "\n",
    "print(l)"
   ]
  }
 ],
 "metadata": {
  "kernelspec": {
   "display_name": "mobileWeb",
   "language": "python",
   "name": "python3"
  },
  "language_info": {
   "codemirror_mode": {
    "name": "ipython",
    "version": 3
   },
   "file_extension": ".py",
   "mimetype": "text/x-python",
   "name": "python",
   "nbconvert_exporter": "python",
   "pygments_lexer": "ipython3",
   "version": "3.9.17"
  }
 },
 "nbformat": 4,
 "nbformat_minor": 2
}
